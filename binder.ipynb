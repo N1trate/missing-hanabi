{
 "cells": [
  {
   "cell_type": "markdown",
   "id": "84b02a75-3c57-4fe1-8db3-a74673605092",
   "metadata": {},
   "source": [
    "Welcome to the Binder environment. This website should enable you to execute the missing-hanabi.py script without installing anything locally.  \n",
    "The downside is that you will need to input your player name and secondary information in the config.py file or the following form.  \n",
    "You need to assume that everything you do on this website could be monitored, stored, and re-used."
   ]
  },
  {
   "cell_type": "code",
   "execution_count": null,
   "id": "68b85e56-5424-4a32-bb4d-6fc9c9f3473d",
   "metadata": {},
   "outputs": [],
   "source": [
    "missing = __import__(\"missing-hanabi\")\n",
    "if missing.config.player == \"\":\n",
    "    missing.config.player = input(\"Who are you (your username)?\")\n",
    "if missing.config.username == \"\":\n",
    "    missing.config.username = input(\"What is the secondary account username?\")\n",
    "if missing.config.password == \"\":\n",
    "    missing.config.password = input(\"What is the secondary account password?\")"
   ]
  },
  {
   "cell_type": "code",
   "execution_count": null,
   "id": "6760de35-4ae2-4383-a755-e1f61deb22aa",
   "metadata": {},
   "outputs": [],
   "source": [
    "add_players=[]\n",
    "remove_players=[]\n",
    "ignore_players=[]\n",
    "\n",
    "missing.main(add_players, remove_players, ignore_players)"
   ]
  }
 ],
 "metadata": {
  "kernelspec": {
   "display_name": "Python 3 (ipykernel)",
   "language": "python",
   "name": "python3"
  },
  "language_info": {
   "codemirror_mode": {
    "name": "ipython",
    "version": 3
   },
   "file_extension": ".py",
   "mimetype": "text/x-python",
   "name": "python",
   "nbconvert_exporter": "python",
   "pygments_lexer": "ipython3",
   "version": "3.7.12"
  }
 },
 "nbformat": 4,
 "nbformat_minor": 5
}
